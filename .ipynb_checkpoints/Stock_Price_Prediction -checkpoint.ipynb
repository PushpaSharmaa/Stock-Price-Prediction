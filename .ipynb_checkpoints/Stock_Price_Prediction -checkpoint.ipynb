{
 "cells": [
  {
   "cell_type": "markdown",
   "id": "284ac459",
   "metadata": {},
   "source": [
    "# Predicting Stock Price using Time Series Analysis"
   ]
  },
  {
   "cell_type": "code",
   "execution_count": 42,
   "id": "61f1105d",
   "metadata": {},
   "outputs": [],
   "source": [
    "#import necessary libraries\n",
    "\n",
    "import numpy as np\n",
    "import pandas as pd"
   ]
  },
  {
   "cell_type": "code",
   "execution_count": 43,
   "id": "c642566a",
   "metadata": {},
   "outputs": [
    {
     "data": {
      "text/html": [
       "<div>\n",
       "<style scoped>\n",
       "    .dataframe tbody tr th:only-of-type {\n",
       "        vertical-align: middle;\n",
       "    }\n",
       "\n",
       "    .dataframe tbody tr th {\n",
       "        vertical-align: top;\n",
       "    }\n",
       "\n",
       "    .dataframe thead th {\n",
       "        text-align: right;\n",
       "    }\n",
       "</style>\n",
       "<table border=\"1\" class=\"dataframe\">\n",
       "  <thead>\n",
       "    <tr style=\"text-align: right;\">\n",
       "      <th></th>\n",
       "      <th>Date</th>\n",
       "      <th>Symbol</th>\n",
       "      <th>Series</th>\n",
       "      <th>Prev Close</th>\n",
       "      <th>Open</th>\n",
       "      <th>High</th>\n",
       "      <th>Low</th>\n",
       "      <th>Last</th>\n",
       "      <th>Close</th>\n",
       "      <th>VWAP</th>\n",
       "      <th>Volume</th>\n",
       "      <th>Turnover</th>\n",
       "      <th>Trades</th>\n",
       "      <th>Deliverable Volume</th>\n",
       "      <th>%Deliverble</th>\n",
       "    </tr>\n",
       "  </thead>\n",
       "  <tbody>\n",
       "    <tr>\n",
       "      <th>0</th>\n",
       "      <td>2000-01-03</td>\n",
       "      <td>BAJAUTOFIN</td>\n",
       "      <td>EQ</td>\n",
       "      <td>46.95</td>\n",
       "      <td>49.45</td>\n",
       "      <td>50.75</td>\n",
       "      <td>46.5</td>\n",
       "      <td>50.75</td>\n",
       "      <td>50.75</td>\n",
       "      <td>50.05</td>\n",
       "      <td>7600</td>\n",
       "      <td>3.803800e+10</td>\n",
       "      <td>NaN</td>\n",
       "      <td>NaN</td>\n",
       "      <td>NaN</td>\n",
       "    </tr>\n",
       "    <tr>\n",
       "      <th>1</th>\n",
       "      <td>2000-01-04</td>\n",
       "      <td>BAJAUTOFIN</td>\n",
       "      <td>EQ</td>\n",
       "      <td>50.75</td>\n",
       "      <td>53.20</td>\n",
       "      <td>53.20</td>\n",
       "      <td>47.9</td>\n",
       "      <td>48.00</td>\n",
       "      <td>48.10</td>\n",
       "      <td>48.56</td>\n",
       "      <td>5000</td>\n",
       "      <td>2.428000e+10</td>\n",
       "      <td>NaN</td>\n",
       "      <td>NaN</td>\n",
       "      <td>NaN</td>\n",
       "    </tr>\n",
       "    <tr>\n",
       "      <th>2</th>\n",
       "      <td>2000-01-05</td>\n",
       "      <td>BAJAUTOFIN</td>\n",
       "      <td>EQ</td>\n",
       "      <td>48.10</td>\n",
       "      <td>46.55</td>\n",
       "      <td>47.40</td>\n",
       "      <td>44.6</td>\n",
       "      <td>44.60</td>\n",
       "      <td>44.60</td>\n",
       "      <td>45.47</td>\n",
       "      <td>3500</td>\n",
       "      <td>1.591450e+10</td>\n",
       "      <td>NaN</td>\n",
       "      <td>NaN</td>\n",
       "      <td>NaN</td>\n",
       "    </tr>\n",
       "    <tr>\n",
       "      <th>3</th>\n",
       "      <td>2000-01-06</td>\n",
       "      <td>BAJAUTOFIN</td>\n",
       "      <td>EQ</td>\n",
       "      <td>44.60</td>\n",
       "      <td>43.50</td>\n",
       "      <td>46.00</td>\n",
       "      <td>42.1</td>\n",
       "      <td>46.00</td>\n",
       "      <td>45.25</td>\n",
       "      <td>44.43</td>\n",
       "      <td>6200</td>\n",
       "      <td>2.754750e+10</td>\n",
       "      <td>NaN</td>\n",
       "      <td>NaN</td>\n",
       "      <td>NaN</td>\n",
       "    </tr>\n",
       "    <tr>\n",
       "      <th>4</th>\n",
       "      <td>2000-01-07</td>\n",
       "      <td>BAJAUTOFIN</td>\n",
       "      <td>EQ</td>\n",
       "      <td>45.25</td>\n",
       "      <td>48.00</td>\n",
       "      <td>48.00</td>\n",
       "      <td>42.0</td>\n",
       "      <td>42.90</td>\n",
       "      <td>42.90</td>\n",
       "      <td>44.44</td>\n",
       "      <td>3500</td>\n",
       "      <td>1.555550e+10</td>\n",
       "      <td>NaN</td>\n",
       "      <td>NaN</td>\n",
       "      <td>NaN</td>\n",
       "    </tr>\n",
       "  </tbody>\n",
       "</table>\n",
       "</div>"
      ],
      "text/plain": [
       "         Date      Symbol Series  Prev Close   Open   High   Low   Last  \\\n",
       "0  2000-01-03  BAJAUTOFIN     EQ       46.95  49.45  50.75  46.5  50.75   \n",
       "1  2000-01-04  BAJAUTOFIN     EQ       50.75  53.20  53.20  47.9  48.00   \n",
       "2  2000-01-05  BAJAUTOFIN     EQ       48.10  46.55  47.40  44.6  44.60   \n",
       "3  2000-01-06  BAJAUTOFIN     EQ       44.60  43.50  46.00  42.1  46.00   \n",
       "4  2000-01-07  BAJAUTOFIN     EQ       45.25  48.00  48.00  42.0  42.90   \n",
       "\n",
       "   Close   VWAP  Volume      Turnover  Trades  Deliverable Volume  %Deliverble  \n",
       "0  50.75  50.05    7600  3.803800e+10     NaN                 NaN          NaN  \n",
       "1  48.10  48.56    5000  2.428000e+10     NaN                 NaN          NaN  \n",
       "2  44.60  45.47    3500  1.591450e+10     NaN                 NaN          NaN  \n",
       "3  45.25  44.43    6200  2.754750e+10     NaN                 NaN          NaN  \n",
       "4  42.90  44.44    3500  1.555550e+10     NaN                 NaN          NaN  "
      ]
     },
     "execution_count": 43,
     "metadata": {},
     "output_type": "execute_result"
    }
   ],
   "source": [
    "df = pd.read_csv('BAJFINANCE.csv')\n",
    "df.head()"
   ]
  },
  {
   "cell_type": "code",
   "execution_count": 44,
   "id": "8634694d",
   "metadata": {},
   "outputs": [],
   "source": [
    "df.set_index('Date', inplace=True)"
   ]
  },
  {
   "cell_type": "code",
   "execution_count": null,
   "id": "b75a2a5a",
   "metadata": {},
   "outputs": [],
   "source": []
  },
  {
   "cell_type": "markdown",
   "id": "1447cb95",
   "metadata": {},
   "source": [
    "### Plotting Traget Variable VWAP over time "
   ]
  },
  {
   "cell_type": "markdown",
   "id": "8ffbf584",
   "metadata": {},
   "source": [
    "VWAP is volume weighted average price."
   ]
  },
  {
   "cell_type": "code",
   "execution_count": 45,
   "id": "e7c75b99",
   "metadata": {},
   "outputs": [
    {
     "data": {
      "text/plain": [
       "<AxesSubplot:xlabel='Date'>"
      ]
     },
     "execution_count": 45,
     "metadata": {},
     "output_type": "execute_result"
    },
    {
     "data": {
      "image/png": "[encoded data removed]",
      "text/plain": [
       "<Figure size 432x288 with 1 Axes>"
      ]
     },
     "metadata": {
      "needs_background": "light"
     },
     "output_type": "display_data"
    }
   ],
   "source": [
    "df['VWAP'].plot()"
   ]
  },
  {
   "cell_type": "markdown",
   "id": "f6e5cf37",
   "metadata": {},
   "source": [
    "We can observe some seasonality here."
   ]
  },
  {
   "cell_type": "code",
   "execution_count": null,
   "id": "2ac3bb7b",
   "metadata": {},
   "outputs": [],
   "source": []
  },
  {
   "cell_type": "markdown",
   "id": "8b1578e6",
   "metadata": {},
   "source": [
    "### Data Pre-processing "
   ]
  },
  {
   "cell_type": "code",
   "execution_count": 46,
   "id": "00d0b4f5",
   "metadata": {},
   "outputs": [
    {
     "data": {
      "text/plain": [
       "(5070, 14)"
      ]
     },
     "execution_count": 46,
     "metadata": {},
     "output_type": "execute_result"
    }
   ],
   "source": [
    "df.shape"
   ]
  },
  {
   "cell_type": "code",
   "execution_count": 47,
   "id": "dbcf05d9",
   "metadata": {},
   "outputs": [
    {
     "data": {
      "text/plain": [
       "Symbol                   0\n",
       "Series                   0\n",
       "Prev Close               0\n",
       "Open                     0\n",
       "High                     0\n",
       "Low                      0\n",
       "Last                     0\n",
       "Close                    0\n",
       "VWAP                     0\n",
       "Volume                   0\n",
       "Turnover                 0\n",
       "Trades                2779\n",
       "Deliverable Volume     446\n",
       "%Deliverble            446\n",
       "dtype: int64"
      ]
     },
     "execution_count": 47,
     "metadata": {},
     "output_type": "execute_result"
    }
   ],
   "source": [
    "df.isnull().sum()"
   ]
  },
  {
   "cell_type": "code",
   "execution_count": 48,
   "id": "7306223e",
   "metadata": {},
   "outputs": [],
   "source": [
    "#let's get rid of null values\n",
    "\n",
    "df.dropna(inplace=True)"
   ]
  },
  {
   "cell_type": "code",
   "execution_count": 49,
   "id": "fcd26807",
   "metadata": {},
   "outputs": [
    {
     "data": {
      "text/plain": [
       "Symbol                0\n",
       "Series                0\n",
       "Prev Close            0\n",
       "Open                  0\n",
       "High                  0\n",
       "Low                   0\n",
       "Last                  0\n",
       "Close                 0\n",
       "VWAP                  0\n",
       "Volume                0\n",
       "Turnover              0\n",
       "Trades                0\n",
       "Deliverable Volume    0\n",
       "%Deliverble           0\n",
       "dtype: int64"
      ]
     },
     "execution_count": 49,
     "metadata": {},
     "output_type": "execute_result"
    }
   ],
   "source": [
    "df.isnull().sum()"
   ]
  },
  {
   "cell_type": "code",
   "execution_count": 50,
   "id": "edc187d5",
   "metadata": {},
   "outputs": [
    {
     "data": {
      "text/plain": [
       "(2291, 14)"
      ]
     },
     "execution_count": 50,
     "metadata": {},
     "output_type": "execute_result"
    }
   ],
   "source": [
    "df.shape"
   ]
  },
  {
   "cell_type": "code",
   "execution_count": 51,
   "id": "c61de4ea",
   "metadata": {},
   "outputs": [],
   "source": [
    "data = df.copy()"
   ]
  },
  {
   "cell_type": "code",
   "execution_count": 52,
   "id": "9f963e1c",
   "metadata": {},
   "outputs": [
    {
     "data": {
      "text/plain": [
       "Symbol                 object\n",
       "Series                 object\n",
       "Prev Close            float64\n",
       "Open                  float64\n",
       "High                  float64\n",
       "Low                   float64\n",
       "Last                  float64\n",
       "Close                 float64\n",
       "VWAP                  float64\n",
       "Volume                  int64\n",
       "Turnover              float64\n",
       "Trades                float64\n",
       "Deliverable Volume    float64\n",
       "%Deliverble           float64\n",
       "dtype: object"
      ]
     },
     "execution_count": 52,
     "metadata": {},
     "output_type": "execute_result"
    }
   ],
   "source": [
    "data.dtypes"
   ]
  },
  {
   "cell_type": "markdown",
   "id": "6612c805",
   "metadata": {},
   "source": [
    "Feature Engineering\n",
    "\n",
    "Let's add some basic features like lag values of available numeric features that are widely used for time series problems.\n",
    "Since we need to predict the price of the stock for a day, we cannot use the feature values of the same day since they will be unavailable at actual inference time. We need to use statistics like mean, standard deviation of their lagged values.\n",
    "\n",
    "We will use three sets of lagged values, one previous day, one looking back 7 days and another looking back 30 days as a proxy for last week and last month metrics."
   ]
  },
  {
   "cell_type": "code",
   "execution_count": 53,
   "id": "b593829a",
   "metadata": {},
   "outputs": [
    {
     "data": {
      "text/plain": [
       "Index(['Symbol', 'Series', 'Prev Close', 'Open', 'High', 'Low', 'Last',\n",
       "       'Close', 'VWAP', 'Volume', 'Turnover', 'Trades', 'Deliverable Volume',\n",
       "       '%Deliverble'],\n",
       "      dtype='object')"
      ]
     },
     "execution_count": 53,
     "metadata": {},
     "output_type": "execute_result"
    }
   ],
   "source": [
    "data.columns"
   ]
  },
  {
   "cell_type": "code",
   "execution_count": 54,
   "id": "98045b33",
   "metadata": {},
   "outputs": [],
   "source": [
    "lag_features = ['High', 'Low', 'Volume', 'Turnover', 'Trades']\n",
    "window1 = 3\n",
    "window2 = 7"
   ]
  },
  {
   "cell_type": "code",
   "execution_count": 55,
   "id": "6766a248",
   "metadata": {},
   "outputs": [],
   "source": [
    "for feature in lag_features:\n",
    "    data[feature+' rolling_mean_3'] = data[feature].rolling(window=window1).mean()\n",
    "    data[feature+' rolling_mean_7'] = data[feature].rolling(window=window2).mean()"
   ]
  },
  {
   "cell_type": "code",
   "execution_count": 56,
   "id": "8bd9df7e",
   "metadata": {},
   "outputs": [],
   "source": [
    "for feature in lag_features:\n",
    "    data[feature+' rolling_std_3'] = data[feature].rolling(window=window1).std()\n",
    "    data[feature+' rolling_std_7'] = data[feature].rolling(window=window2).std()"
   ]
  },
  {
   "cell_type": "code",
   "execution_count": 57,
   "id": "3ba4a9da",
   "metadata": {},
   "outputs": [
    {
     "data": {
      "text/html": [
       "<div>\n",
       "<style scoped>\n",
       "    .dataframe tbody tr th:only-of-type {\n",
       "        vertical-align: middle;\n",
       "    }\n",
       "\n",
       "    .dataframe tbody tr th {\n",
       "        vertical-align: top;\n",
       "    }\n",
       "\n",
       "    .dataframe thead th {\n",
       "        text-align: right;\n",
       "    }\n",
       "</style>\n",
       "<table border=\"1\" class=\"dataframe\">\n",
       "  <thead>\n",
       "    <tr style=\"text-align: right;\">\n",
       "      <th></th>\n",
       "      <th>Symbol</th>\n",
       "      <th>Series</th>\n",
       "      <th>Prev Close</th>\n",
       "      <th>Open</th>\n",
       "      <th>High</th>\n",
       "      <th>Low</th>\n",
       "      <th>Last</th>\n",
       "      <th>Close</th>\n",
       "      <th>VWAP</th>\n",
       "      <th>Volume</th>\n",
       "      <th>...</th>\n",
       "      <th>High rolling_std_3</th>\n",
       "      <th>High rolling_std_7</th>\n",
       "      <th>Low rolling_std_3</th>\n",
       "      <th>Low rolling_std_7</th>\n",
       "      <th>Volume rolling_std_3</th>\n",
       "      <th>Volume rolling_std_7</th>\n",
       "      <th>Turnover rolling_std_3</th>\n",
       "      <th>Turnover rolling_std_7</th>\n",
       "      <th>Trades rolling_std_3</th>\n",
       "      <th>Trades rolling_std_7</th>\n",
       "    </tr>\n",
       "    <tr>\n",
       "      <th>Date</th>\n",
       "      <th></th>\n",
       "      <th></th>\n",
       "      <th></th>\n",
       "      <th></th>\n",
       "      <th></th>\n",
       "      <th></th>\n",
       "      <th></th>\n",
       "      <th></th>\n",
       "      <th></th>\n",
       "      <th></th>\n",
       "      <th></th>\n",
       "      <th></th>\n",
       "      <th></th>\n",
       "      <th></th>\n",
       "      <th></th>\n",
       "      <th></th>\n",
       "      <th></th>\n",
       "      <th></th>\n",
       "      <th></th>\n",
       "      <th></th>\n",
       "      <th></th>\n",
       "    </tr>\n",
       "  </thead>\n",
       "  <tbody>\n",
       "    <tr>\n",
       "      <th>2011-06-01</th>\n",
       "      <td>BAJFINANCE</td>\n",
       "      <td>EQ</td>\n",
       "      <td>616.70</td>\n",
       "      <td>617.00</td>\n",
       "      <td>636.50</td>\n",
       "      <td>616.00</td>\n",
       "      <td>627.00</td>\n",
       "      <td>631.85</td>\n",
       "      <td>627.01</td>\n",
       "      <td>6894</td>\n",
       "      <td>...</td>\n",
       "      <td>NaN</td>\n",
       "      <td>NaN</td>\n",
       "      <td>NaN</td>\n",
       "      <td>NaN</td>\n",
       "      <td>NaN</td>\n",
       "      <td>NaN</td>\n",
       "      <td>NaN</td>\n",
       "      <td>NaN</td>\n",
       "      <td>NaN</td>\n",
       "      <td>NaN</td>\n",
       "    </tr>\n",
       "    <tr>\n",
       "      <th>2011-06-02</th>\n",
       "      <td>BAJFINANCE</td>\n",
       "      <td>EQ</td>\n",
       "      <td>631.85</td>\n",
       "      <td>625.00</td>\n",
       "      <td>638.90</td>\n",
       "      <td>620.00</td>\n",
       "      <td>634.00</td>\n",
       "      <td>633.45</td>\n",
       "      <td>636.04</td>\n",
       "      <td>2769</td>\n",
       "      <td>...</td>\n",
       "      <td>NaN</td>\n",
       "      <td>NaN</td>\n",
       "      <td>NaN</td>\n",
       "      <td>NaN</td>\n",
       "      <td>NaN</td>\n",
       "      <td>NaN</td>\n",
       "      <td>NaN</td>\n",
       "      <td>NaN</td>\n",
       "      <td>NaN</td>\n",
       "      <td>NaN</td>\n",
       "    </tr>\n",
       "    <tr>\n",
       "      <th>2011-06-03</th>\n",
       "      <td>BAJFINANCE</td>\n",
       "      <td>EQ</td>\n",
       "      <td>633.45</td>\n",
       "      <td>625.15</td>\n",
       "      <td>637.80</td>\n",
       "      <td>620.00</td>\n",
       "      <td>623.00</td>\n",
       "      <td>625.00</td>\n",
       "      <td>625.09</td>\n",
       "      <td>51427</td>\n",
       "      <td>...</td>\n",
       "      <td>1.201388</td>\n",
       "      <td>NaN</td>\n",
       "      <td>2.309401</td>\n",
       "      <td>NaN</td>\n",
       "      <td>26980.871860</td>\n",
       "      <td>NaN</td>\n",
       "      <td>1.685217e+12</td>\n",
       "      <td>NaN</td>\n",
       "      <td>670.500559</td>\n",
       "      <td>NaN</td>\n",
       "    </tr>\n",
       "    <tr>\n",
       "      <th>2011-06-06</th>\n",
       "      <td>BAJFINANCE</td>\n",
       "      <td>EQ</td>\n",
       "      <td>625.00</td>\n",
       "      <td>620.00</td>\n",
       "      <td>641.00</td>\n",
       "      <td>611.35</td>\n",
       "      <td>611.35</td>\n",
       "      <td>614.00</td>\n",
       "      <td>616.03</td>\n",
       "      <td>5446</td>\n",
       "      <td>...</td>\n",
       "      <td>1.625833</td>\n",
       "      <td>NaN</td>\n",
       "      <td>4.994080</td>\n",
       "      <td>NaN</td>\n",
       "      <td>27352.695339</td>\n",
       "      <td>NaN</td>\n",
       "      <td>1.710136e+12</td>\n",
       "      <td>NaN</td>\n",
       "      <td>148.769396</td>\n",
       "      <td>NaN</td>\n",
       "    </tr>\n",
       "    <tr>\n",
       "      <th>2011-06-07</th>\n",
       "      <td>BAJFINANCE</td>\n",
       "      <td>EQ</td>\n",
       "      <td>614.00</td>\n",
       "      <td>604.00</td>\n",
       "      <td>623.95</td>\n",
       "      <td>604.00</td>\n",
       "      <td>619.90</td>\n",
       "      <td>619.15</td>\n",
       "      <td>617.73</td>\n",
       "      <td>5991</td>\n",
       "      <td>...</td>\n",
       "      <td>9.062422</td>\n",
       "      <td>NaN</td>\n",
       "      <td>8.008797</td>\n",
       "      <td>NaN</td>\n",
       "      <td>26391.221653</td>\n",
       "      <td>NaN</td>\n",
       "      <td>1.652377e+12</td>\n",
       "      <td>NaN</td>\n",
       "      <td>78.270897</td>\n",
       "      <td>NaN</td>\n",
       "    </tr>\n",
       "  </tbody>\n",
       "</table>\n",
       "<p>5 rows × 34 columns</p>\n",
       "</div>"
      ],
      "text/plain": [
       "                Symbol Series  Prev Close    Open    High     Low    Last  \\\n",
       "Date                                                                        \n",
       "2011-06-01  BAJFINANCE     EQ      616.70  617.00  636.50  616.00  627.00   \n",
       "2011-06-02  BAJFINANCE     EQ      631.85  625.00  638.90  620.00  634.00   \n",
       "2011-06-03  BAJFINANCE     EQ      633.45  625.15  637.80  620.00  623.00   \n",
       "2011-06-06  BAJFINANCE     EQ      625.00  620.00  641.00  611.35  611.35   \n",
       "2011-06-07  BAJFINANCE     EQ      614.00  604.00  623.95  604.00  619.90   \n",
       "\n",
       "             Close    VWAP  Volume  ...  High rolling_std_3  \\\n",
       "Date                                ...                       \n",
       "2011-06-01  631.85  627.01    6894  ...                 NaN   \n",
       "2011-06-02  633.45  636.04    2769  ...                 NaN   \n",
       "2011-06-03  625.00  625.09   51427  ...            1.201388   \n",
       "2011-06-06  614.00  616.03    5446  ...            1.625833   \n",
       "2011-06-07  619.15  617.73    5991  ...            9.062422   \n",
       "\n",
       "            High rolling_std_7  Low rolling_std_3  Low rolling_std_7  \\\n",
       "Date                                                                   \n",
       "2011-06-01                 NaN                NaN                NaN   \n",
       "2011-06-02                 NaN                NaN                NaN   \n",
       "2011-06-03                 NaN           2.309401                NaN   \n",
       "2011-06-06                 NaN           4.994080                NaN   \n",
       "2011-06-07                 NaN           8.008797                NaN   \n",
       "\n",
       "            Volume rolling_std_3  Volume rolling_std_7  \\\n",
       "Date                                                     \n",
       "2011-06-01                   NaN                   NaN   \n",
       "2011-06-02                   NaN                   NaN   \n",
       "2011-06-03          26980.871860                   NaN   \n",
       "2011-06-06          27352.695339                   NaN   \n",
       "2011-06-07          26391.221653                   NaN   \n",
       "\n",
       "            Turnover rolling_std_3  Turnover rolling_std_7  \\\n",
       "Date                                                         \n",
       "2011-06-01                     NaN                     NaN   \n",
       "2011-06-02                     NaN                     NaN   \n",
       "2011-06-03            1.685217e+12                     NaN   \n",
       "2011-06-06            1.710136e+12                     NaN   \n",
       "2011-06-07            1.652377e+12                     NaN   \n",
       "\n",
       "            Trades rolling_std_3  Trades rolling_std_7  \n",
       "Date                                                    \n",
       "2011-06-01                   NaN                   NaN  \n",
       "2011-06-02                   NaN                   NaN  \n",
       "2011-06-03            670.500559                   NaN  \n",
       "2011-06-06            148.769396                   NaN  \n",
       "2011-06-07             78.270897                   NaN  \n",
       "\n",
       "[5 rows x 34 columns]"
      ]
     },
     "execution_count": 57,
     "metadata": {},
     "output_type": "execute_result"
    }
   ],
   "source": [
    "data.head()"
   ]
  },
  {
   "cell_type": "code",
   "execution_count": 58,
   "id": "2d88d363",
   "metadata": {},
   "outputs": [
    {
     "data": {
      "text/plain": [
       "Index(['Symbol', 'Series', 'Prev Close', 'Open', 'High', 'Low', 'Last',\n",
       "       'Close', 'VWAP', 'Volume', 'Turnover', 'Trades', 'Deliverable Volume',\n",
       "       '%Deliverble', 'High rolling_mean_3', 'High rolling_mean_7',\n",
       "       'Low rolling_mean_3', 'Low rolling_mean_7', 'Volume rolling_mean_3',\n",
       "       'Volume rolling_mean_7', 'Turnover rolling_mean_3',\n",
       "       'Turnover rolling_mean_7', 'Trades rolling_mean_3',\n",
       "       'Trades rolling_mean_7', 'High rolling_std_3', 'High rolling_std_7',\n",
       "       'Low rolling_std_3', 'Low rolling_std_7', 'Volume rolling_std_3',\n",
       "       'Volume rolling_std_7', 'Turnover rolling_std_3',\n",
       "       'Turnover rolling_std_7', 'Trades rolling_std_3',\n",
       "       'Trades rolling_std_7'],\n",
       "      dtype='object')"
      ]
     },
     "execution_count": 58,
     "metadata": {},
     "output_type": "execute_result"
    }
   ],
   "source": [
    "data.columns"
   ]
  },
  {
   "cell_type": "code",
   "execution_count": 59,
   "id": "f33df1aa",
   "metadata": {},
   "outputs": [
    {
     "data": {
      "text/plain": [
       "(2291, 34)"
      ]
     },
     "execution_count": 59,
     "metadata": {},
     "output_type": "execute_result"
    }
   ],
   "source": [
    "data.shape"
   ]
  },
  {
   "cell_type": "code",
   "execution_count": 60,
   "id": "d6fe27d8",
   "metadata": {},
   "outputs": [
    {
     "data": {
      "text/plain": [
       "Symbol                     0\n",
       "Series                     0\n",
       "Prev Close                 0\n",
       "Open                       0\n",
       "High                       0\n",
       "Low                        0\n",
       "Last                       0\n",
       "Close                      0\n",
       "VWAP                       0\n",
       "Volume                     0\n",
       "Turnover                   0\n",
       "Trades                     0\n",
       "Deliverable Volume         0\n",
       "%Deliverble                0\n",
       "High rolling_mean_3        2\n",
       "High rolling_mean_7        6\n",
       "Low rolling_mean_3         2\n",
       "Low rolling_mean_7         6\n",
       "Volume rolling_mean_3      2\n",
       "Volume rolling_mean_7      6\n",
       "Turnover rolling_mean_3    2\n",
       "Turnover rolling_mean_7    6\n",
       "Trades rolling_mean_3      2\n",
       "Trades rolling_mean_7      6\n",
       "High rolling_std_3         2\n",
       "High rolling_std_7         6\n",
       "Low rolling_std_3          2\n",
       "Low rolling_std_7          6\n",
       "Volume rolling_std_3       2\n",
       "Volume rolling_std_7       6\n",
       "Turnover rolling_std_3     2\n",
       "Turnover rolling_std_7     6\n",
       "Trades rolling_std_3       2\n",
       "Trades rolling_std_7       6\n",
       "dtype: int64"
      ]
     },
     "execution_count": 60,
     "metadata": {},
     "output_type": "execute_result"
    }
   ],
   "source": [
    "data.isna().sum()"
   ]
  },
  {
   "cell_type": "code",
   "execution_count": 61,
   "id": "0484776f",
   "metadata": {},
   "outputs": [],
   "source": [
    "data.dropna(inplace=True)"
   ]
  },
  {
   "cell_type": "code",
   "execution_count": null,
   "id": "600ecdd2",
   "metadata": {},
   "outputs": [],
   "source": []
  },
  {
   "cell_type": "code",
   "execution_count": 62,
   "id": "b2eb5725",
   "metadata": {},
   "outputs": [
    {
     "data": {
      "text/plain": [
       "Index(['Symbol', 'Series', 'Prev Close', 'Open', 'High', 'Low', 'Last',\n",
       "       'Close', 'VWAP', 'Volume', 'Turnover', 'Trades', 'Deliverable Volume',\n",
       "       '%Deliverble', 'High rolling_mean_3', 'High rolling_mean_7',\n",
       "       'Low rolling_mean_3', 'Low rolling_mean_7', 'Volume rolling_mean_3',\n",
       "       'Volume rolling_mean_7', 'Turnover rolling_mean_3',\n",
       "       'Turnover rolling_mean_7', 'Trades rolling_mean_3',\n",
       "       'Trades rolling_mean_7', 'High rolling_std_3', 'High rolling_std_7',\n",
       "       'Low rolling_std_3', 'Low rolling_std_7', 'Volume rolling_std_3',\n",
       "       'Volume rolling_std_7', 'Turnover rolling_std_3',\n",
       "       'Turnover rolling_std_7', 'Trades rolling_std_3',\n",
       "       'Trades rolling_std_7'],\n",
       "      dtype='object')"
      ]
     },
     "execution_count": 62,
     "metadata": {},
     "output_type": "execute_result"
    }
   ],
   "source": [
    "data.columns"
   ]
  },
  {
   "cell_type": "code",
   "execution_count": 63,
   "id": "e6130168",
   "metadata": {},
   "outputs": [],
   "source": [
    "#  independant features\n",
    "\n",
    "ind_features = ['High rolling_mean_3', 'High rolling_mean_7',\n",
    "       'Low rolling_mean_3', 'Low rolling_mean_7', 'Volume rolling_mean_3',\n",
    "       'Volume rolling_mean_7', 'Turnover rolling_mean_3',\n",
    "       'Turnover rolling_mean_7', 'Trades rolling_mean_3',\n",
    "       'Trades rolling_mean_7', 'High rolling_std_3', 'High rolling_std_7',\n",
    "       'Low rolling_std_3', 'Low rolling_std_7', 'Volume rolling_std_3',\n",
    "       'Volume rolling_std_7', 'Turnover rolling_std_3',\n",
    "       'Turnover rolling_std_7', 'Trades rolling_std_3',\n",
    "       'Trades rolling_std_7']"
   ]
  },
  {
   "cell_type": "code",
   "execution_count": 64,
   "id": "7d7fa228",
   "metadata": {},
   "outputs": [],
   "source": [
    "# let's split our data into training and test data.\n",
    "\n",
    "training_data = data[0:1800]\n",
    "test_data = data[1800:]"
   ]
  },
  {
   "cell_type": "code",
   "execution_count": 65,
   "id": "feb43e3d",
   "metadata": {},
   "outputs": [
    {
     "data": {
      "text/html": [
       "<div>\n",
       "<style scoped>\n",
       "    .dataframe tbody tr th:only-of-type {\n",
       "        vertical-align: middle;\n",
       "    }\n",
       "\n",
       "    .dataframe tbody tr th {\n",
       "        vertical-align: top;\n",
       "    }\n",
       "\n",
       "    .dataframe thead th {\n",
       "        text-align: right;\n",
       "    }\n",
       "</style>\n",
       "<table border=\"1\" class=\"dataframe\">\n",
       "  <thead>\n",
       "    <tr style=\"text-align: right;\">\n",
       "      <th></th>\n",
       "      <th>Symbol</th>\n",
       "      <th>Series</th>\n",
       "      <th>Prev Close</th>\n",
       "      <th>Open</th>\n",
       "      <th>High</th>\n",
       "      <th>Low</th>\n",
       "      <th>Last</th>\n",
       "      <th>Close</th>\n",
       "      <th>VWAP</th>\n",
       "      <th>Volume</th>\n",
       "      <th>...</th>\n",
       "      <th>High rolling_std_3</th>\n",
       "      <th>High rolling_std_7</th>\n",
       "      <th>Low rolling_std_3</th>\n",
       "      <th>Low rolling_std_7</th>\n",
       "      <th>Volume rolling_std_3</th>\n",
       "      <th>Volume rolling_std_7</th>\n",
       "      <th>Turnover rolling_std_3</th>\n",
       "      <th>Turnover rolling_std_7</th>\n",
       "      <th>Trades rolling_std_3</th>\n",
       "      <th>Trades rolling_std_7</th>\n",
       "    </tr>\n",
       "    <tr>\n",
       "      <th>Date</th>\n",
       "      <th></th>\n",
       "      <th></th>\n",
       "      <th></th>\n",
       "      <th></th>\n",
       "      <th></th>\n",
       "      <th></th>\n",
       "      <th></th>\n",
       "      <th></th>\n",
       "      <th></th>\n",
       "      <th></th>\n",
       "      <th></th>\n",
       "      <th></th>\n",
       "      <th></th>\n",
       "      <th></th>\n",
       "      <th></th>\n",
       "      <th></th>\n",
       "      <th></th>\n",
       "      <th></th>\n",
       "      <th></th>\n",
       "      <th></th>\n",
       "      <th></th>\n",
       "    </tr>\n",
       "  </thead>\n",
       "  <tbody>\n",
       "    <tr>\n",
       "      <th>2011-06-09</th>\n",
       "      <td>BAJFINANCE</td>\n",
       "      <td>EQ</td>\n",
       "      <td>635.60</td>\n",
       "      <td>639.80</td>\n",
       "      <td>647.00</td>\n",
       "      <td>630.00</td>\n",
       "      <td>630.00</td>\n",
       "      <td>631.10</td>\n",
       "      <td>638.27</td>\n",
       "      <td>31252</td>\n",
       "      <td>...</td>\n",
       "      <td>12.769789</td>\n",
       "      <td>7.494911</td>\n",
       "      <td>15.011107</td>\n",
       "      <td>9.410145</td>\n",
       "      <td>13497.047986</td>\n",
       "      <td>18373.894011</td>\n",
       "      <td>8.665128e+11</td>\n",
       "      <td>1.155773e+12</td>\n",
       "      <td>354.841279</td>\n",
       "      <td>463.942320</td>\n",
       "    </tr>\n",
       "    <tr>\n",
       "      <th>2011-06-10</th>\n",
       "      <td>BAJFINANCE</td>\n",
       "      <td>EQ</td>\n",
       "      <td>631.10</td>\n",
       "      <td>641.85</td>\n",
       "      <td>648.25</td>\n",
       "      <td>618.55</td>\n",
       "      <td>621.10</td>\n",
       "      <td>622.20</td>\n",
       "      <td>634.16</td>\n",
       "      <td>30885</td>\n",
       "      <td>...</td>\n",
       "      <td>1.639360</td>\n",
       "      <td>8.227994</td>\n",
       "      <td>13.030765</td>\n",
       "      <td>9.501961</td>\n",
       "      <td>2434.970705</td>\n",
       "      <td>18047.331029</td>\n",
       "      <td>1.579562e+11</td>\n",
       "      <td>1.136003e+12</td>\n",
       "      <td>272.875429</td>\n",
       "      <td>448.020620</td>\n",
       "    </tr>\n",
       "    <tr>\n",
       "      <th>2011-06-13</th>\n",
       "      <td>BAJFINANCE</td>\n",
       "      <td>EQ</td>\n",
       "      <td>622.20</td>\n",
       "      <td>616.00</td>\n",
       "      <td>627.85</td>\n",
       "      <td>616.00</td>\n",
       "      <td>622.75</td>\n",
       "      <td>624.95</td>\n",
       "      <td>622.92</td>\n",
       "      <td>3981</td>\n",
       "      <td>...</td>\n",
       "      <td>11.434196</td>\n",
       "      <td>9.497080</td>\n",
       "      <td>7.456597</td>\n",
       "      <td>9.298317</td>\n",
       "      <td>15640.051929</td>\n",
       "      <td>17835.642665</td>\n",
       "      <td>9.982094e+11</td>\n",
       "      <td>1.123423e+12</td>\n",
       "      <td>557.373603</td>\n",
       "      <td>464.778596</td>\n",
       "    </tr>\n",
       "    <tr>\n",
       "      <th>2011-06-14</th>\n",
       "      <td>BAJFINANCE</td>\n",
       "      <td>EQ</td>\n",
       "      <td>624.95</td>\n",
       "      <td>625.00</td>\n",
       "      <td>628.95</td>\n",
       "      <td>619.95</td>\n",
       "      <td>621.20</td>\n",
       "      <td>622.10</td>\n",
       "      <td>625.35</td>\n",
       "      <td>5597</td>\n",
       "      <td>...</td>\n",
       "      <td>11.473593</td>\n",
       "      <td>10.198891</td>\n",
       "      <td>2.002707</td>\n",
       "      <td>9.293713</td>\n",
       "      <td>15088.183102</td>\n",
       "      <td>13139.472184</td>\n",
       "      <td>9.595224e+11</td>\n",
       "      <td>8.397765e+11</td>\n",
       "      <td>656.385050</td>\n",
       "      <td>455.234163</td>\n",
       "    </tr>\n",
       "    <tr>\n",
       "      <th>2011-06-15</th>\n",
       "      <td>BAJFINANCE</td>\n",
       "      <td>EQ</td>\n",
       "      <td>622.10</td>\n",
       "      <td>612.00</td>\n",
       "      <td>623.00</td>\n",
       "      <td>598.10</td>\n",
       "      <td>605.00</td>\n",
       "      <td>601.70</td>\n",
       "      <td>606.90</td>\n",
       "      <td>12590</td>\n",
       "      <td>...</td>\n",
       "      <td>3.165833</td>\n",
       "      <td>11.352292</td>\n",
       "      <td>11.643560</td>\n",
       "      <td>11.262712</td>\n",
       "      <td>4575.812970</td>\n",
       "      <td>12469.137006</td>\n",
       "      <td>2.733211e+11</td>\n",
       "      <td>7.983186e+11</td>\n",
       "      <td>150.639747</td>\n",
       "      <td>436.941971</td>\n",
       "    </tr>\n",
       "    <tr>\n",
       "      <th>...</th>\n",
       "      <td>...</td>\n",
       "      <td>...</td>\n",
       "      <td>...</td>\n",
       "      <td>...</td>\n",
       "      <td>...</td>\n",
       "      <td>...</td>\n",
       "      <td>...</td>\n",
       "      <td>...</td>\n",
       "      <td>...</td>\n",
       "      <td>...</td>\n",
       "      <td>...</td>\n",
       "      <td>...</td>\n",
       "      <td>...</td>\n",
       "      <td>...</td>\n",
       "      <td>...</td>\n",
       "      <td>...</td>\n",
       "      <td>...</td>\n",
       "      <td>...</td>\n",
       "      <td>...</td>\n",
       "      <td>...</td>\n",
       "      <td>...</td>\n",
       "    </tr>\n",
       "    <tr>\n",
       "      <th>2018-09-04</th>\n",
       "      <td>BAJFINANCE</td>\n",
       "      <td>EQ</td>\n",
       "      <td>2724.05</td>\n",
       "      <td>2724.00</td>\n",
       "      <td>2777.65</td>\n",
       "      <td>2683.50</td>\n",
       "      <td>2748.00</td>\n",
       "      <td>2746.30</td>\n",
       "      <td>2726.23</td>\n",
       "      <td>2606992</td>\n",
       "      <td>...</td>\n",
       "      <td>88.954937</td>\n",
       "      <td>79.489416</td>\n",
       "      <td>83.341306</td>\n",
       "      <td>107.041856</td>\n",
       "      <td>696998.737787</td>\n",
       "      <td>642979.884199</td>\n",
       "      <td>1.827289e+14</td>\n",
       "      <td>1.673270e+14</td>\n",
       "      <td>2794.744413</td>\n",
       "      <td>21708.856675</td>\n",
       "    </tr>\n",
       "    <tr>\n",
       "      <th>2018-09-05</th>\n",
       "      <td>BAJFINANCE</td>\n",
       "      <td>EQ</td>\n",
       "      <td>2746.30</td>\n",
       "      <td>2740.15</td>\n",
       "      <td>2764.80</td>\n",
       "      <td>2668.00</td>\n",
       "      <td>2704.45</td>\n",
       "      <td>2716.90</td>\n",
       "      <td>2712.53</td>\n",
       "      <td>1728455</td>\n",
       "      <td>...</td>\n",
       "      <td>63.129081</td>\n",
       "      <td>100.594924</td>\n",
       "      <td>24.113551</td>\n",
       "      <td>119.854378</td>\n",
       "      <td>483305.554092</td>\n",
       "      <td>570427.041296</td>\n",
       "      <td>1.375623e+14</td>\n",
       "      <td>1.467744e+14</td>\n",
       "      <td>21770.352164</td>\n",
       "      <td>17267.163548</td>\n",
       "    </tr>\n",
       "    <tr>\n",
       "      <th>2018-09-06</th>\n",
       "      <td>BAJFINANCE</td>\n",
       "      <td>EQ</td>\n",
       "      <td>2716.90</td>\n",
       "      <td>2729.00</td>\n",
       "      <td>2731.50</td>\n",
       "      <td>2671.40</td>\n",
       "      <td>2672.20</td>\n",
       "      <td>2684.10</td>\n",
       "      <td>2695.89</td>\n",
       "      <td>1147879</td>\n",
       "      <td>...</td>\n",
       "      <td>23.818183</td>\n",
       "      <td>113.135709</td>\n",
       "      <td>8.146779</td>\n",
       "      <td>118.187686</td>\n",
       "      <td>734609.476628</td>\n",
       "      <td>584307.816124</td>\n",
       "      <td>2.020435e+14</td>\n",
       "      <td>1.561692e+14</td>\n",
       "      <td>30923.312263</td>\n",
       "      <td>24013.596897</td>\n",
       "    </tr>\n",
       "    <tr>\n",
       "      <th>2018-09-07</th>\n",
       "      <td>BAJFINANCE</td>\n",
       "      <td>EQ</td>\n",
       "      <td>2684.10</td>\n",
       "      <td>2698.40</td>\n",
       "      <td>2751.40</td>\n",
       "      <td>2672.60</td>\n",
       "      <td>2745.00</td>\n",
       "      <td>2744.20</td>\n",
       "      <td>2716.32</td>\n",
       "      <td>1264436</td>\n",
       "      <td>...</td>\n",
       "      <td>16.755397</td>\n",
       "      <td>106.101111</td>\n",
       "      <td>2.386071</td>\n",
       "      <td>100.988340</td>\n",
       "      <td>307128.544854</td>\n",
       "      <td>599913.723573</td>\n",
       "      <td>8.394860e+13</td>\n",
       "      <td>1.641199e+14</td>\n",
       "      <td>12123.301421</td>\n",
       "      <td>25604.694191</td>\n",
       "    </tr>\n",
       "    <tr>\n",
       "      <th>2018-09-10</th>\n",
       "      <td>BAJFINANCE</td>\n",
       "      <td>EQ</td>\n",
       "      <td>2744.20</td>\n",
       "      <td>2732.00</td>\n",
       "      <td>2738.00</td>\n",
       "      <td>2596.00</td>\n",
       "      <td>2607.60</td>\n",
       "      <td>2615.65</td>\n",
       "      <td>2655.39</td>\n",
       "      <td>1570179</td>\n",
       "      <td>...</td>\n",
       "      <td>10.147413</td>\n",
       "      <td>84.670766</td>\n",
       "      <td>43.882722</td>\n",
       "      <td>74.650851</td>\n",
       "      <td>218098.451125</td>\n",
       "      <td>592650.415369</td>\n",
       "      <td>5.493903e+13</td>\n",
       "      <td>1.647685e+14</td>\n",
       "      <td>15501.359822</td>\n",
       "      <td>25567.783116</td>\n",
       "    </tr>\n",
       "  </tbody>\n",
       "</table>\n",
       "<p>1800 rows × 34 columns</p>\n",
       "</div>"
      ],
      "text/plain": [
       "                Symbol Series  Prev Close     Open     High      Low     Last  \\\n",
       "Date                                                                            \n",
       "2011-06-09  BAJFINANCE     EQ      635.60   639.80   647.00   630.00   630.00   \n",
       "2011-06-10  BAJFINANCE     EQ      631.10   641.85   648.25   618.55   621.10   \n",
       "2011-06-13  BAJFINANCE     EQ      622.20   616.00   627.85   616.00   622.75   \n",
       "2011-06-14  BAJFINANCE     EQ      624.95   625.00   628.95   619.95   621.20   \n",
       "2011-06-15  BAJFINANCE     EQ      622.10   612.00   623.00   598.10   605.00   \n",
       "...                ...    ...         ...      ...      ...      ...      ...   \n",
       "2018-09-04  BAJFINANCE     EQ     2724.05  2724.00  2777.65  2683.50  2748.00   \n",
       "2018-09-05  BAJFINANCE     EQ     2746.30  2740.15  2764.80  2668.00  2704.45   \n",
       "2018-09-06  BAJFINANCE     EQ     2716.90  2729.00  2731.50  2671.40  2672.20   \n",
       "2018-09-07  BAJFINANCE     EQ     2684.10  2698.40  2751.40  2672.60  2745.00   \n",
       "2018-09-10  BAJFINANCE     EQ     2744.20  2732.00  2738.00  2596.00  2607.60   \n",
       "\n",
       "              Close     VWAP   Volume  ...  High rolling_std_3  \\\n",
       "Date                                   ...                       \n",
       "2011-06-09   631.10   638.27    31252  ...           12.769789   \n",
       "2011-06-10   622.20   634.16    30885  ...            1.639360   \n",
       "2011-06-13   624.95   622.92     3981  ...           11.434196   \n",
       "2011-06-14   622.10   625.35     5597  ...           11.473593   \n",
       "2011-06-15   601.70   606.90    12590  ...            3.165833   \n",
       "...             ...      ...      ...  ...                 ...   \n",
       "2018-09-04  2746.30  2726.23  2606992  ...           88.954937   \n",
       "2018-09-05  2716.90  2712.53  1728455  ...           63.129081   \n",
       "2018-09-06  2684.10  2695.89  1147879  ...           23.818183   \n",
       "2018-09-07  2744.20  2716.32  1264436  ...           16.755397   \n",
       "2018-09-10  2615.65  2655.39  1570179  ...           10.147413   \n",
       "\n",
       "            High rolling_std_7  Low rolling_std_3  Low rolling_std_7  \\\n",
       "Date                                                                   \n",
       "2011-06-09            7.494911          15.011107           9.410145   \n",
       "2011-06-10            8.227994          13.030765           9.501961   \n",
       "2011-06-13            9.497080           7.456597           9.298317   \n",
       "2011-06-14           10.198891           2.002707           9.293713   \n",
       "2011-06-15           11.352292          11.643560          11.262712   \n",
       "...                        ...                ...                ...   \n",
       "2018-09-04           79.489416          83.341306         107.041856   \n",
       "2018-09-05          100.594924          24.113551         119.854378   \n",
       "2018-09-06          113.135709           8.146779         118.187686   \n",
       "2018-09-07          106.101111           2.386071         100.988340   \n",
       "2018-09-10           84.670766          43.882722          74.650851   \n",
       "\n",
       "            Volume rolling_std_3  Volume rolling_std_7  \\\n",
       "Date                                                     \n",
       "2011-06-09          13497.047986          18373.894011   \n",
       "2011-06-10           2434.970705          18047.331029   \n",
       "2011-06-13          15640.051929          17835.642665   \n",
       "2011-06-14          15088.183102          13139.472184   \n",
       "2011-06-15           4575.812970          12469.137006   \n",
       "...                          ...                   ...   \n",
       "2018-09-04         696998.737787         642979.884199   \n",
       "2018-09-05         483305.554092         570427.041296   \n",
       "2018-09-06         734609.476628         584307.816124   \n",
       "2018-09-07         307128.544854         599913.723573   \n",
       "2018-09-10         218098.451125         592650.415369   \n",
       "\n",
       "            Turnover rolling_std_3  Turnover rolling_std_7  \\\n",
       "Date                                                         \n",
       "2011-06-09            8.665128e+11            1.155773e+12   \n",
       "2011-06-10            1.579562e+11            1.136003e+12   \n",
       "2011-06-13            9.982094e+11            1.123423e+12   \n",
       "2011-06-14            9.595224e+11            8.397765e+11   \n",
       "2011-06-15            2.733211e+11            7.983186e+11   \n",
       "...                            ...                     ...   \n",
       "2018-09-04            1.827289e+14            1.673270e+14   \n",
       "2018-09-05            1.375623e+14            1.467744e+14   \n",
       "2018-09-06            2.020435e+14            1.561692e+14   \n",
       "2018-09-07            8.394860e+13            1.641199e+14   \n",
       "2018-09-10            5.493903e+13            1.647685e+14   \n",
       "\n",
       "            Trades rolling_std_3  Trades rolling_std_7  \n",
       "Date                                                    \n",
       "2011-06-09            354.841279            463.942320  \n",
       "2011-06-10            272.875429            448.020620  \n",
       "2011-06-13            557.373603            464.778596  \n",
       "2011-06-14            656.385050            455.234163  \n",
       "2011-06-15            150.639747            436.941971  \n",
       "...                          ...                   ...  \n",
       "2018-09-04           2794.744413          21708.856675  \n",
       "2018-09-05          21770.352164          17267.163548  \n",
       "2018-09-06          30923.312263          24013.596897  \n",
       "2018-09-07          12123.301421          25604.694191  \n",
       "2018-09-10          15501.359822          25567.783116  \n",
       "\n",
       "[1800 rows x 34 columns]"
      ]
     },
     "execution_count": 65,
     "metadata": {},
     "output_type": "execute_result"
    }
   ],
   "source": [
    "training_data"
   ]
  },
  {
   "cell_type": "code",
   "execution_count": null,
   "id": "30c9753b",
   "metadata": {},
   "outputs": [],
   "source": []
  },
  {
   "cell_type": "code",
   "execution_count": null,
   "id": "ca704bbd",
   "metadata": {},
   "outputs": [],
   "source": []
  },
  {
   "cell_type": "markdown",
   "id": "0e10f727",
   "metadata": {},
   "source": [
    "### Let's build ML Model"
   ]
  },
  {
   "cell_type": "code",
   "execution_count": 66,
   "id": "e20922ee",
   "metadata": {},
   "outputs": [],
   "source": [
    "# installing pmdarima\n",
    "# !pip install pmdarima"
   ]
  },
  {
   "cell_type": "code",
   "execution_count": 76,
   "id": "4fcc78be",
   "metadata": {},
   "outputs": [],
   "source": [
    "from pmdarima import auto_arima"
   ]
  },
  {
   "cell_type": "code",
   "execution_count": 78,
   "id": "983e2452",
   "metadata": {},
   "outputs": [],
   "source": [
    "# to ignore the filter warnings that appear after we run a cell\n",
    "\n",
    "import warnings\n",
    "warnings.filterwarnings('ignore')"
   ]
  },
  {
   "cell_type": "code",
   "execution_count": 79,
   "id": "b56238e4",
   "metadata": {},
   "outputs": [
    {
     "name": "stdout",
     "output_type": "stream",
     "text": [
      "Performing stepwise search to minimize aic\n",
      " ARIMA(2,1,2)(0,0,0)[0] intercept   : AIC=inf, Time=3.79 sec\n",
      " ARIMA(0,1,0)(0,0,0)[0] intercept   : AIC=25013.840, Time=0.10 sec\n",
      " ARIMA(1,1,0)(0,0,0)[0] intercept   : AIC=25015.795, Time=0.15 sec\n",
      " ARIMA(0,1,1)(0,0,0)[0] intercept   : AIC=25015.799, Time=0.11 sec\n",
      " ARIMA(0,1,0)(0,0,0)[0]             : AIC=25011.876, Time=0.04 sec\n",
      " ARIMA(1,1,1)(0,0,0)[0] intercept   : AIC=inf, Time=2.79 sec\n",
      "\n",
      "Best model:  ARIMA(0,1,0)(0,0,0)[0]          \n",
      "Total fit time: 7.006 seconds\n"
     ]
    }
   ],
   "source": [
    "model = auto_arima(y=training_data['VWAP'],exogenous=training_data[ind_features],trace=True)"
   ]
  },
  {
   "cell_type": "code",
   "execution_count": 80,
   "id": "975ccc6c",
   "metadata": {},
   "outputs": [
    {
     "data": {
      "text/plain": [
       "ARIMA(order=(0, 1, 0), scoring_args={}, suppress_warnings=True,\n",
       "      with_intercept=False)"
      ]
     },
     "execution_count": 80,
     "metadata": {},
     "output_type": "execute_result"
    }
   ],
   "source": [
    "model.fit(training_data['VWAP'],training_data[ind_features])"
   ]
  },
  {
   "cell_type": "code",
   "execution_count": 91,
   "id": "a91f178e",
   "metadata": {},
   "outputs": [],
   "source": [
    "forecast = model.predict(n_periods=len(test_data), X=test_data[ind_features])"
   ]
  },
  {
   "cell_type": "code",
   "execution_count": 94,
   "id": "102bfa2f",
   "metadata": {},
   "outputs": [],
   "source": [
    "forecast = np.array(forecast)"
   ]
  },
  {
   "cell_type": "code",
   "execution_count": 95,
   "id": "06ec8aa5",
   "metadata": {},
   "outputs": [],
   "source": [
    "test_data['Forecast_ARIMA'] = forecast"
   ]
  },
  {
   "cell_type": "code",
   "execution_count": 99,
   "id": "cc5e85f1",
   "metadata": {},
   "outputs": [
    {
     "data": {
      "text/plain": [
       "<AxesSubplot:xlabel='Date'>"
      ]
     },
     "execution_count": 99,
     "metadata": {},
     "output_type": "execute_result"
    },
    {
     "data": {
      "image/png": "[encoded data removed]",
      "text/plain": [
       "<Figure size 1008x504 with 1 Axes>"
      ]
     },
     "metadata": {
      "needs_background": "light"
     },
     "output_type": "display_data"
    }
   ],
   "source": [
    "# Now let's plot the trends\n",
    "\n",
    "test_data[['VWAP','Forecast_ARIMA']].plot(figsize=(14,7))"
   ]
  },
  {
   "cell_type": "markdown",
   "id": "1b29cea3",
   "metadata": {},
   "source": [
    "##### The Auto-ARIMA Model seems to do a fairly good job in predicting the stock price."
   ]
  },
  {
   "cell_type": "code",
   "execution_count": null,
   "id": "7945651f",
   "metadata": {},
   "outputs": [],
   "source": []
  },
  {
   "cell_type": "code",
   "execution_count": null,
   "id": "b66790e1",
   "metadata": {},
   "outputs": [],
   "source": []
  }
 ],
 "metadata": {
  "kernelspec": {
   "display_name": "Python 3",
   "language": "python",
   "name": "python3"
  },
  "language_info": {
   "codemirror_mode": {
    "name": "ipython",
    "version": 3
   },
   "file_extension": ".py",
   "mimetype": "text/x-python",
   "name": "python",
   "nbconvert_exporter": "python",
   "pygments_lexer": "ipython3",
   "version": "3.8.8"
  }
 },
 "nbformat": 4,
 "nbformat_minor": 5
}
